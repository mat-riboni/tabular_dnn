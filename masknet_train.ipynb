{
 "cells": [
  {
   "cell_type": "markdown",
   "id": "a7f6fc5e",
   "metadata": {},
   "source": [
    "Facciamo il training del modello che crea le maschere e verifichiamo se il tempo di inferenza si riduce."
   ]
  },
  {
   "cell_type": "code",
   "execution_count": 1,
   "id": "b0d6f6ee",
   "metadata": {},
   "outputs": [],
   "source": [
    "from utils import load_and_prepare_data\n",
    "from neural_network import NeuralNetwork\n",
    "from masknet import *\n",
    "import torch\n",
    "from sklearn.metrics import classification_report, confusion_matrix\n",
    "import seaborn as sns\n",
    "import matplotlib.pyplot as plt\n",
    "import numpy as np\n",
    "import time\n"
   ]
  },
  {
   "cell_type": "code",
   "execution_count": 2,
   "id": "98268722",
   "metadata": {},
   "outputs": [],
   "source": [
    "numerical_cols = [\n",
    "        \"duration\",\n",
    "        \"dst_bytes\",\n",
    "        \"missed_bytes\",\n",
    "        \"src_bytes\",\n",
    "        \"src_ip_bytes\",\n",
    "        \"src_pkts\",\n",
    "        \"dst_pkts\",\n",
    "        \"dst_ip_bytes\",\n",
    "        \"http_request_body_len\",\n",
    "        \"http_response_body_len\"\n",
    "\n",
    "    ]\n",
    "\n",
    "categorical_cols = [\n",
    "        \"proto\",\n",
    "        \"conn_state\",\n",
    "        \"http_status_code\",\n",
    "        \"http_method\",\n",
    "        \"http_orig_mime_types\",\n",
    "        \"http_resp_mime_types\",\n",
    "    ]\n",
    "\n",
    "\n",
    "target_col = 'type'\n",
    "values_to_remove = {'type': ['mitm', 'dos']}\n",
    "\n",
    "dataset_path = './Dataset/http_ton.csv'\n",
    "device = torch.device(\"cuda\" if torch.cuda.is_available() else \"cpu\")\n",
    "MASK_THRESHOLD = 0.5\n"
   ]
  },
  {
   "cell_type": "code",
   "execution_count": 3,
   "id": "aa4e9c9c",
   "metadata": {},
   "outputs": [],
   "source": [
    "best_model = NeuralNetwork.load('best_model.pt', device=device)\n",
    "config = best_model.config"
   ]
  },
  {
   "cell_type": "code",
   "execution_count": 4,
   "id": "7a21c3be",
   "metadata": {},
   "outputs": [],
   "source": [
    "mask_generator = MaskGenerator(\n",
    "    cat_cardinalities=config['cat_cardinalities'],\n",
    "    embedding_dims=config['embedding_dims'],\n",
    "    num_numerical_features=config['num_numerical_features'],\n",
    "    mask_sizes=config['hidden_layers_sizes'],\n",
    "    share_embeddings=best_model.embeddings\n",
    ")"
   ]
  },
  {
   "cell_type": "code",
   "execution_count": 5,
   "id": "c0d0d9e1",
   "metadata": {},
   "outputs": [],
   "source": [
    "train_dataloader, valid_dataloader, test_dataloader, cat_cardinalities, cw, target_names = load_and_prepare_data(\n",
    "    file_path=dataset_path,\n",
    "    target_col=target_col,\n",
    "    numerical_cols=numerical_cols,\n",
    "    categorical_cols=categorical_cols,\n",
    "    rows_to_remove=values_to_remove,\n",
    "    batch_size=4096\n",
    ")"
   ]
  },
  {
   "cell_type": "code",
   "execution_count": 6,
   "id": "9e78a006",
   "metadata": {},
   "outputs": [
    {
     "name": "stdout",
     "output_type": "stream",
     "text": [
      "Epoch   0 | Valid Loss: 0.0199 | Valid Sparsity: 0.112 | F1: 0.9846 | Acc: 0.9942 | Alpha: 0.000100\n",
      "Epoch   1 | Valid Loss: 0.0218 | Valid Sparsity: 0.188 | F1: 0.9848 | Acc: 0.9943 | Alpha: 0.001000\n",
      "Epoch   2 | Valid Loss: 0.0217 | Valid Sparsity: 0.227 | F1: 0.9853 | Acc: 0.9944 | Alpha: 0.001100\n",
      "Epoch   3 | Valid Loss: 0.0218 | Valid Sparsity: 0.242 | F1: 0.9861 | Acc: 0.9945 | Alpha: 0.001200\n",
      "Epoch   4 | Valid Loss: 0.0219 | Valid Sparsity: 0.267 | F1: 0.9862 | Acc: 0.9945 | Alpha: 0.001300\n",
      "Epoch   5 | Valid Loss: 0.0220 | Valid Sparsity: 0.281 | F1: 0.9861 | Acc: 0.9945 | Alpha: 0.001400\n",
      "Epoch   6 | Valid Loss: 0.0221 | Valid Sparsity: 0.301 | F1: 0.9863 | Acc: 0.9945 | Alpha: 0.001500\n",
      "Epoch   7 | Valid Loss: 0.0223 | Valid Sparsity: 0.314 | F1: 0.9866 | Acc: 0.9946 | Alpha: 0.001600\n",
      "Epoch   8 | Valid Loss: 0.0223 | Valid Sparsity: 0.325 | F1: 0.9866 | Acc: 0.9946 | Alpha: 0.001700\n",
      "Epoch   9 | Valid Loss: 0.0225 | Valid Sparsity: 0.335 | F1: 0.9862 | Acc: 0.9945 | Alpha: 0.001800\n",
      "Epoch  10 | Valid Loss: 0.0226 | Valid Sparsity: 0.338 | F1: 0.9864 | Acc: 0.9946 | Alpha: 0.001900\n",
      "Epoch  11 | Valid Loss: 0.0228 | Valid Sparsity: 0.347 | F1: 0.9864 | Acc: 0.9946 | Alpha: 0.002000\n",
      "Epoch  12 | Valid Loss: 0.0230 | Valid Sparsity: 0.345 | F1: 0.9864 | Acc: 0.9946 | Alpha: 0.002100\n",
      "Epoch  13 | Valid Loss: 0.0232 | Valid Sparsity: 0.357 | F1: 0.9863 | Acc: 0.9946 | Alpha: 0.002200\n",
      "Epoch  14 | Valid Loss: 0.0233 | Valid Sparsity: 0.366 | F1: 0.9865 | Acc: 0.9946 | Alpha: 0.002300\n",
      "Epoch  15 | Valid Loss: 0.0236 | Valid Sparsity: 0.364 | F1: 0.9865 | Acc: 0.9946 | Alpha: 0.002400\n",
      "Epoch  16 | Valid Loss: 0.0237 | Valid Sparsity: 0.367 | F1: 0.9866 | Acc: 0.9946 | Alpha: 0.002500\n",
      "Epoch  17 | Valid Loss: 0.0238 | Valid Sparsity: 0.375 | F1: 0.9866 | Acc: 0.9946 | Alpha: 0.002600\n",
      "Epoch  18 | Valid Loss: 0.0241 | Valid Sparsity: 0.380 | F1: 0.9865 | Acc: 0.9946 | Alpha: 0.002700\n",
      "Epoch  19 | Valid Loss: 0.0242 | Valid Sparsity: 0.381 | F1: 0.9866 | Acc: 0.9946 | Alpha: 0.002800\n"
     ]
    }
   ],
   "source": [
    "mask_generator.fit(\n",
    "    model=best_model,\n",
    "    train_dataloader=train_dataloader,\n",
    "    valid_dataloader=valid_dataloader,\n",
    "    device=device,\n",
    "    threshold=MASK_THRESHOLD,\n",
    "    alpha=0.001,\n",
    "    epochs=20,\n",
    "    warmup_epochs=1,\n",
    "    lr=0.001\n",
    ")"
   ]
  },
  {
   "cell_type": "markdown",
   "id": "22086a8d",
   "metadata": {},
   "source": [
    "### Senza maschere:"
   ]
  },
  {
   "cell_type": "code",
   "execution_count": 7,
   "id": "3ba2d22e",
   "metadata": {},
   "outputs": [
    {
     "name": "stdout",
     "output_type": "stream",
     "text": [
      "\n",
      "=== Classification Report SENZA MASCHERE ===\n",
      "              precision    recall  f1-score   support\n",
      "\n",
      "        ddos     0.9900    0.9949    0.9925     50615\n",
      "   injection     0.9717    0.9871    0.9794     50967\n",
      "      normal     0.9677    0.9906    0.9790      9197\n",
      "    password     0.9980    0.9972    0.9976    189474\n",
      "    scanning     0.7829    0.9942    0.8760      4686\n",
      "         xss     0.9980    0.9867    0.9924    211140\n",
      "\n",
      "    accuracy                         0.9916    516079\n",
      "   macro avg     0.9514    0.9918    0.9695    516079\n",
      "weighted avg     0.9922    0.9916    0.9917    516079\n",
      "\n"
     ]
    }
   ],
   "source": [
    "y_pred = best_model.predict(test_dataloader, device)\n",
    "y_true = torch.cat([y for _, _, y in test_dataloader]).numpy()\n",
    "print(\"\\n=== Classification Report SENZA MASCHERE ===\")\n",
    "print(classification_report(y_true, y_pred.numpy(), target_names=target_names, digits=4))"
   ]
  },
  {
   "cell_type": "markdown",
   "id": "8522fc0f",
   "metadata": {},
   "source": [
    "### Con maschere"
   ]
  },
  {
   "cell_type": "code",
   "execution_count": 8,
   "id": "a1e27416",
   "metadata": {},
   "outputs": [
    {
     "name": "stdout",
     "output_type": "stream",
     "text": [
      "\n",
      "=== Classification Report CON MASCHERE ===\n",
      "              precision    recall  f1-score   support\n",
      "\n",
      "        ddos     0.9931    0.9937    0.9934     50615\n",
      "   injection     0.9815    0.9829    0.9822     50967\n",
      "      normal     0.9892    0.9846    0.9869      9197\n",
      "    password     0.9973    0.9985    0.9979    189474\n",
      "    scanning     0.9806    0.9366    0.9581      4686\n",
      "         xss     0.9952    0.9949    0.9950    211140\n",
      "\n",
      "    accuracy                         0.9942    516079\n",
      "   macro avg     0.9895    0.9818    0.9856    516079\n",
      "weighted avg     0.9942    0.9942    0.9942    516079\n",
      "\n"
     ]
    }
   ],
   "source": [
    "y_pred = best_model.predict_with_masks(test_dataloader, device, mask_generator, threshold=MASK_THRESHOLD)\n",
    "y_true = torch.cat([y for _, _, y in test_dataloader]).numpy()\n",
    "print(\"\\n=== Classification Report CON MASCHERE ===\")\n",
    "print(classification_report(y_true, y_pred.numpy(), target_names=target_names, digits=4))"
   ]
  },
  {
   "cell_type": "markdown",
   "id": "eb1a14b0",
   "metadata": {},
   "source": [
    "### Benchmark Temporale"
   ]
  },
  {
   "cell_type": "code",
   "execution_count": null,
   "id": "690a5a94",
   "metadata": {},
   "outputs": [
    {
     "ename": "TypeError",
     "evalue": "benchmark_inference_speed() missing 1 required positional argument: 'model'",
     "output_type": "error",
     "traceback": [
      "\u001b[31m---------------------------------------------------------------------------\u001b[39m",
      "\u001b[31mTypeError\u001b[39m                                 Traceback (most recent call last)",
      "\u001b[36mCell\u001b[39m\u001b[36m \u001b[39m\u001b[32mIn[9]\u001b[39m\u001b[32m, line 1\u001b[39m\n\u001b[32m----> \u001b[39m\u001b[32m1\u001b[39m \u001b[43mbenchmark_inference_speed\u001b[49m\u001b[43m(\u001b[49m\n\u001b[32m      2\u001b[39m \u001b[43m    \u001b[49m\u001b[43mmask_generator\u001b[49m\u001b[43m=\u001b[49m\u001b[43mmask_generator\u001b[49m\u001b[43m,\u001b[49m\n\u001b[32m      3\u001b[39m \u001b[43m    \u001b[49m\u001b[43mdataloader\u001b[49m\u001b[43m=\u001b[49m\u001b[43mtest_dataloader\u001b[49m\u001b[43m,\u001b[49m\n\u001b[32m      4\u001b[39m \u001b[43m    \u001b[49m\u001b[43mdevice\u001b[49m\u001b[43m=\u001b[49m\u001b[43mdevice\u001b[49m\u001b[43m,\u001b[49m\n\u001b[32m      5\u001b[39m \u001b[43m    \u001b[49m\u001b[43mthreshold\u001b[49m\u001b[43m=\u001b[49m\u001b[43mMASK_THRESHOLD\u001b[49m\u001b[43m,\u001b[49m\n\u001b[32m      6\u001b[39m \u001b[43m    \u001b[49m\u001b[43mnum_runs\u001b[49m\u001b[43m=\u001b[49m\u001b[32;43m10\u001b[39;49m\n\u001b[32m      7\u001b[39m \u001b[43m)\u001b[49m\n",
      "\u001b[31mTypeError\u001b[39m: benchmark_inference_speed() missing 1 required positional argument: 'model'"
     ]
    }
   ],
   "source": [
    "benchmark_inference_speed(\n",
    "    model=best_model,\n",
    "    mask_generator=mask_generator,\n",
    "    dataloader=test_dataloader,\n",
    "    device=device,\n",
    "    threshold=MASK_THRESHOLD,\n",
    "    num_runs=10\n",
    ")"
   ]
  }
 ],
 "metadata": {
  "kernelspec": {
   "display_name": "venv",
   "language": "python",
   "name": "python3"
  },
  "language_info": {
   "codemirror_mode": {
    "name": "ipython",
    "version": 3
   },
   "file_extension": ".py",
   "mimetype": "text/x-python",
   "name": "python",
   "nbconvert_exporter": "python",
   "pygments_lexer": "ipython3",
   "version": "3.12.3"
  }
 },
 "nbformat": 4,
 "nbformat_minor": 5
}
