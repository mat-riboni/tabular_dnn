{
 "cells": [
  {
   "cell_type": "markdown",
   "id": "a7f6fc5e",
   "metadata": {},
   "source": [
    "Facciamo il training del modello che crea le maschere e verifichiamo se il tempo di inferenza si riduce."
   ]
  },
  {
   "cell_type": "code",
   "execution_count": null,
   "id": "b0d6f6ee",
   "metadata": {},
   "outputs": [],
   "source": [
    "from utils import load_and_prepare_data\n",
    "from neural_network import NeuralNetwork\n",
    "from masknet import *\n",
    "import torch\n",
    "from sklearn.metrics import classification_report, confusion_matrix\n",
    "import seaborn as sns\n",
    "import matplotlib.pyplot as plt\n",
    "import numpy as np\n",
    "import time\n"
   ]
  },
  {
   "cell_type": "code",
   "execution_count": null,
   "id": "98268722",
   "metadata": {},
   "outputs": [],
   "source": [
    "numerical_cols = [\n",
    "        \"duration\",\n",
    "        \"dst_bytes\",\n",
    "        \"missed_bytes\",\n",
    "        \"src_bytes\",\n",
    "        \"src_ip_bytes\",\n",
    "        \"src_pkts\",\n",
    "        \"dst_pkts\",\n",
    "        \"dst_ip_bytes\",\n",
    "        \"http_request_body_len\",\n",
    "        \"http_response_body_len\"\n",
    "\n",
    "    ]\n",
    "\n",
    "categorical_cols = [\n",
    "        \"proto\",\n",
    "        \"conn_state\",\n",
    "        \"http_status_code\",\n",
    "        \"http_method\",\n",
    "        \"http_orig_mime_types\",\n",
    "        \"http_resp_mime_types\",\n",
    "    ]\n",
    "\n",
    "\n",
    "target_col = 'type'\n",
    "values_to_remove = {'type': ['mitm', 'dos']}\n",
    "\n",
    "dataset_path = './Dataset/http_ton.csv'\n",
    "device = torch.device(\"cuda\" if torch.cuda.is_available() else \"cpu\")\n",
    "MASK_THRESHOLD = 0.3\n"
   ]
  },
  {
   "cell_type": "code",
   "execution_count": null,
   "id": "aa4e9c9c",
   "metadata": {},
   "outputs": [],
   "source": [
    "best_model = NeuralNetwork.load('best_model.pt', device=device)\n",
    "config = best_model.config"
   ]
  },
  {
   "cell_type": "code",
   "execution_count": null,
   "id": "7a21c3be",
   "metadata": {},
   "outputs": [],
   "source": [
    "mask_generator = MaskGenerator(\n",
    "    cat_cardinalities=config['cat_cardinalities'],\n",
    "    embedding_dims=config['embedding_dims'],\n",
    "    num_numerical_features=config['num_numerical_features'],\n",
    "    mask_sizes=config['hidden_layers_sizes'],\n",
    "    share_embeddings=best_model.embeddings\n",
    ")"
   ]
  },
  {
   "cell_type": "code",
   "execution_count": null,
   "id": "c0d0d9e1",
   "metadata": {},
   "outputs": [],
   "source": [
    "train_dataloader, valid_dataloader, test_dataloader, cat_cardinalities, cw, target_names = load_and_prepare_data(\n",
    "    file_path=dataset_path,\n",
    "    target_col=target_col,\n",
    "    numerical_cols=numerical_cols,\n",
    "    categorical_cols=categorical_cols,\n",
    "    rows_to_remove=values_to_remove,\n",
    "    batch_size=4096\n",
    ")"
   ]
  },
  {
   "cell_type": "code",
   "execution_count": null,
   "id": "9e78a006",
   "metadata": {},
   "outputs": [],
   "source": [
    "mask_generator.fit(\n",
    "    model=best_model,\n",
    "    train_dataloader=train_dataloader,\n",
    "    valid_dataloader=valid_dataloader,\n",
    "    device=device,\n",
    "    threshold=MASK_THRESHOLD,\n",
    "    alpha=0.0001,\n",
    "    epochs=20,\n",
    "    warmup_epochs=5,\n",
    "    lr=0.001\n",
    ")"
   ]
  },
  {
   "cell_type": "markdown",
   "id": "22086a8d",
   "metadata": {},
   "source": [
    "### Senza maschere:"
   ]
  },
  {
   "cell_type": "code",
   "execution_count": null,
   "id": "3ba2d22e",
   "metadata": {},
   "outputs": [],
   "source": [
    "y_pred = best_model.predict(test_dataloader, device)\n",
    "y_true = torch.cat([y for _, _, y in test_dataloader]).numpy()\n",
    "print(\"\\n=== Classification Report SENZA MASCHERE ===\")\n",
    "print(classification_report(y_true, y_pred.numpy(), target_names=target_names, digits=4))"
   ]
  },
  {
   "cell_type": "markdown",
   "id": "8522fc0f",
   "metadata": {},
   "source": [
    "### Con maschere"
   ]
  },
  {
   "cell_type": "code",
   "execution_count": null,
   "id": "a1e27416",
   "metadata": {},
   "outputs": [],
   "source": [
    "y_pred = best_model.predict_with_masks(test_dataloader, device, mask_generator, threshold=MASK_THRESHOLD)\n",
    "y_true = torch.cat([y for _, _, y in test_dataloader]).numpy()\n",
    "print(\"\\n=== Classification Report CON MASCHERE ===\")\n",
    "print(classification_report(y_true, y_pred.numpy(), target_names=target_names, digits=4))"
   ]
  },
  {
   "cell_type": "markdown",
   "id": "eb1a14b0",
   "metadata": {},
   "source": [
    "### Benchmark Temporale"
   ]
  },
  {
   "cell_type": "code",
   "execution_count": null,
   "id": "690a5a94",
   "metadata": {},
   "outputs": [],
   "source": [
    "benchmark_inference_speed(\n",
    "    mask_generator=mask_generator,\n",
    "    dataloader=test_dataloader,\n",
    "    device=device,\n",
    "    threshold=MASK_THRESHOLD,\n",
    "    num_runs=10\n",
    ")"
   ]
  }
 ],
 "metadata": {
  "kernelspec": {
   "display_name": "venv",
   "language": "python",
   "name": "python3"
  },
  "language_info": {
   "codemirror_mode": {
    "name": "ipython",
    "version": 3
   },
   "file_extension": ".py",
   "mimetype": "text/x-python",
   "name": "python",
   "nbconvert_exporter": "python",
   "pygments_lexer": "ipython3",
   "version": "3.12.3"
  }
 },
 "nbformat": 4,
 "nbformat_minor": 5
}
