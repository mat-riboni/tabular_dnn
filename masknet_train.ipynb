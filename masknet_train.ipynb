{
 "cells": [
  {
   "cell_type": "markdown",
   "id": "a7f6fc5e",
   "metadata": {},
   "source": [
    "Facciamo il training del modello che crea le maschere e verifichiamo se il tempo di inferenza si riduce."
   ]
  },
  {
   "cell_type": "code",
   "execution_count": 6,
   "id": "b0d6f6ee",
   "metadata": {},
   "outputs": [],
   "source": [
    "from utils import load_and_prepare_data\n",
    "from neural_network import NeuralNetwork\n",
    "from masknet import *\n",
    "import torch\n",
    "from sklearn.metrics import classification_report, confusion_matrix\n"
   ]
  },
  {
   "cell_type": "code",
   "execution_count": 7,
   "id": "98268722",
   "metadata": {},
   "outputs": [],
   "source": [
    "numerical_cols = [\n",
    "        \"duration\",\n",
    "        \"dst_bytes\",\n",
    "        \"missed_bytes\",\n",
    "        \"src_bytes\",\n",
    "        \"src_ip_bytes\",\n",
    "        \"src_pkts\",\n",
    "        \"dst_pkts\",\n",
    "        \"dst_ip_bytes\",\n",
    "        \"http_request_body_len\",\n",
    "        \"http_response_body_len\"\n",
    "\n",
    "    ]\n",
    "\n",
    "categorical_cols = [\n",
    "        \"proto\",\n",
    "        \"conn_state\",\n",
    "        \"http_status_code\",\n",
    "        \"http_method\",\n",
    "        \"http_orig_mime_types\",\n",
    "        \"http_resp_mime_types\",\n",
    "    ]\n",
    "\n",
    "\n",
    "target_col = 'type'\n",
    "values_to_remove = {'type': ['mitm', 'dos']}\n",
    "\n",
    "dataset_path = './Dataset/http_ton.csv'\n",
    "device = torch.device(\"cuda\" if torch.cuda.is_available() else \"cpu\")\n",
    "MASK_THRESHOLD = 0.5\n"
   ]
  },
  {
   "cell_type": "code",
   "execution_count": 8,
   "id": "aa4e9c9c",
   "metadata": {},
   "outputs": [],
   "source": [
    "best_model = NeuralNetwork.load('best_model.pt', device=device)\n",
    "config = best_model.config"
   ]
  },
  {
   "cell_type": "code",
   "execution_count": 9,
   "id": "7a21c3be",
   "metadata": {},
   "outputs": [],
   "source": [
    "mask_generator = MaskGenerator(\n",
    "    cat_cardinalities=config['cat_cardinalities'],\n",
    "    embedding_dims=config['embedding_dims'],\n",
    "    num_numerical_features=config['num_numerical_features'],\n",
    "    mask_sizes=config['hidden_layers_sizes'],\n",
    "    share_embeddings=best_model.embeddings\n",
    ")"
   ]
  },
  {
   "cell_type": "code",
   "execution_count": 10,
   "id": "c0d0d9e1",
   "metadata": {},
   "outputs": [],
   "source": [
    "train_dataloader, valid_dataloader, test_dataloader, cat_cardinalities, cw, target_names = load_and_prepare_data(\n",
    "    file_path=dataset_path,\n",
    "    target_col=target_col,\n",
    "    numerical_cols=numerical_cols,\n",
    "    categorical_cols=categorical_cols,\n",
    "    rows_to_remove=values_to_remove,\n",
    "    batch_size=4096\n",
    ")"
   ]
  },
  {
   "cell_type": "code",
   "execution_count": 11,
   "id": "9e78a006",
   "metadata": {},
   "outputs": [
    {
     "name": "stdout",
     "output_type": "stream",
     "text": [
      "Epoch   0 | Valid Loss: 0.0223 | Valid Sparsity: 0.079 | F1: 0.9832 | Acc: 0.9938 | Alpha: 0.000100\n",
      "Epoch   1 | Valid Loss: 0.0240 | Valid Sparsity: 0.099 | F1: 0.9844 | Acc: 0.9940 | Alpha: 0.001000\n",
      "Epoch   2 | Valid Loss: 0.0241 | Valid Sparsity: 0.096 | F1: 0.9845 | Acc: 0.9940 | Alpha: 0.001100\n",
      "Epoch   3 | Valid Loss: 0.0242 | Valid Sparsity: 0.125 | F1: 0.9846 | Acc: 0.9941 | Alpha: 0.001200\n",
      "Epoch   4 | Valid Loss: 0.0243 | Valid Sparsity: 0.144 | F1: 0.9849 | Acc: 0.9942 | Alpha: 0.001300\n",
      "Epoch   5 | Valid Loss: 0.0244 | Valid Sparsity: 0.156 | F1: 0.9847 | Acc: 0.9942 | Alpha: 0.001400\n",
      "Epoch   6 | Valid Loss: 0.0245 | Valid Sparsity: 0.151 | F1: 0.9848 | Acc: 0.9941 | Alpha: 0.001500\n",
      "Epoch   7 | Valid Loss: 0.0247 | Valid Sparsity: 0.159 | F1: 0.9846 | Acc: 0.9941 | Alpha: 0.001600\n",
      "Epoch   8 | Valid Loss: 0.0249 | Valid Sparsity: 0.160 | F1: 0.9848 | Acc: 0.9942 | Alpha: 0.001700\n",
      "Epoch   9 | Valid Loss: 0.0251 | Valid Sparsity: 0.183 | F1: 0.9848 | Acc: 0.9942 | Alpha: 0.001800\n",
      "Epoch  10 | Valid Loss: 0.0253 | Valid Sparsity: 0.174 | F1: 0.9846 | Acc: 0.9941 | Alpha: 0.001900\n",
      "Epoch  11 | Valid Loss: 0.0255 | Valid Sparsity: 0.182 | F1: 0.9850 | Acc: 0.9942 | Alpha: 0.002000\n",
      "Epoch  12 | Valid Loss: 0.0257 | Valid Sparsity: 0.177 | F1: 0.9845 | Acc: 0.9942 | Alpha: 0.002100\n",
      "Epoch  13 | Valid Loss: 0.0259 | Valid Sparsity: 0.177 | F1: 0.9848 | Acc: 0.9942 | Alpha: 0.002200\n",
      "Epoch  14 | Valid Loss: 0.0262 | Valid Sparsity: 0.178 | F1: 0.9850 | Acc: 0.9942 | Alpha: 0.002300\n",
      "Epoch  15 | Valid Loss: 0.0264 | Valid Sparsity: 0.175 | F1: 0.9848 | Acc: 0.9942 | Alpha: 0.002400\n",
      "Epoch  16 | Valid Loss: 0.0266 | Valid Sparsity: 0.180 | F1: 0.9847 | Acc: 0.9942 | Alpha: 0.002500\n",
      "Epoch  17 | Valid Loss: 0.0268 | Valid Sparsity: 0.182 | F1: 0.9849 | Acc: 0.9942 | Alpha: 0.002600\n",
      "Epoch  18 | Valid Loss: 0.0271 | Valid Sparsity: 0.181 | F1: 0.9846 | Acc: 0.9942 | Alpha: 0.002700\n",
      "Epoch  19 | Valid Loss: 0.0273 | Valid Sparsity: 0.182 | F1: 0.9848 | Acc: 0.9942 | Alpha: 0.002800\n",
      "Epoch  20 | Valid Loss: 0.0275 | Valid Sparsity: 0.179 | F1: 0.9849 | Acc: 0.9942 | Alpha: 0.002900\n",
      "Epoch  21 | Valid Loss: 0.0277 | Valid Sparsity: 0.184 | F1: 0.9847 | Acc: 0.9942 | Alpha: 0.003000\n",
      "Epoch  22 | Valid Loss: 0.0279 | Valid Sparsity: 0.189 | F1: 0.9850 | Acc: 0.9943 | Alpha: 0.003100\n",
      "Epoch  23 | Valid Loss: 0.0282 | Valid Sparsity: 0.189 | F1: 0.9848 | Acc: 0.9942 | Alpha: 0.003200\n",
      "Epoch  24 | Valid Loss: 0.0284 | Valid Sparsity: 0.191 | F1: 0.9851 | Acc: 0.9943 | Alpha: 0.003300\n",
      "Epoch  25 | Valid Loss: 0.0285 | Valid Sparsity: 0.194 | F1: 0.9847 | Acc: 0.9942 | Alpha: 0.003400\n",
      "Epoch  26 | Valid Loss: 0.0288 | Valid Sparsity: 0.197 | F1: 0.9847 | Acc: 0.9942 | Alpha: 0.003500\n",
      "Epoch  27 | Valid Loss: 0.0290 | Valid Sparsity: 0.201 | F1: 0.9849 | Acc: 0.9943 | Alpha: 0.003600\n",
      "Epoch  28 | Valid Loss: 0.0292 | Valid Sparsity: 0.200 | F1: 0.9849 | Acc: 0.9943 | Alpha: 0.003700\n",
      "Epoch  29 | Valid Loss: 0.0296 | Valid Sparsity: 0.208 | F1: 0.9848 | Acc: 0.9942 | Alpha: 0.003800\n",
      "Epoch  30 | Valid Loss: 0.0297 | Valid Sparsity: 0.208 | F1: 0.9848 | Acc: 0.9943 | Alpha: 0.003900\n",
      "Epoch  31 | Valid Loss: 0.0298 | Valid Sparsity: 0.209 | F1: 0.9855 | Acc: 0.9943 | Alpha: 0.004000\n",
      "Epoch  32 | Valid Loss: 0.0300 | Valid Sparsity: 0.209 | F1: 0.9856 | Acc: 0.9943 | Alpha: 0.004100\n",
      "Epoch  33 | Valid Loss: 0.0302 | Valid Sparsity: 0.214 | F1: 0.9857 | Acc: 0.9943 | Alpha: 0.004200\n",
      "Epoch  34 | Valid Loss: 0.0304 | Valid Sparsity: 0.219 | F1: 0.9855 | Acc: 0.9943 | Alpha: 0.004300\n",
      "Epoch  35 | Valid Loss: 0.0306 | Valid Sparsity: 0.220 | F1: 0.9856 | Acc: 0.9943 | Alpha: 0.004400\n",
      "Epoch  36 | Valid Loss: 0.0308 | Valid Sparsity: 0.218 | F1: 0.9854 | Acc: 0.9943 | Alpha: 0.004500\n",
      "Epoch  37 | Valid Loss: 0.0310 | Valid Sparsity: 0.220 | F1: 0.9855 | Acc: 0.9943 | Alpha: 0.004600\n",
      "Epoch  38 | Valid Loss: 0.0312 | Valid Sparsity: 0.223 | F1: 0.9855 | Acc: 0.9943 | Alpha: 0.004700\n",
      "Epoch  39 | Valid Loss: 0.0314 | Valid Sparsity: 0.227 | F1: 0.9856 | Acc: 0.9943 | Alpha: 0.004800\n",
      "Epoch  40 | Valid Loss: 0.0316 | Valid Sparsity: 0.222 | F1: 0.9855 | Acc: 0.9943 | Alpha: 0.004900\n",
      "Epoch  41 | Valid Loss: 0.0318 | Valid Sparsity: 0.224 | F1: 0.9855 | Acc: 0.9943 | Alpha: 0.005000\n",
      "Epoch  42 | Valid Loss: 0.0320 | Valid Sparsity: 0.227 | F1: 0.9856 | Acc: 0.9943 | Alpha: 0.005100\n",
      "Epoch  43 | Valid Loss: 0.0322 | Valid Sparsity: 0.231 | F1: 0.9855 | Acc: 0.9943 | Alpha: 0.005200\n",
      "Epoch  44 | Valid Loss: 0.0324 | Valid Sparsity: 0.232 | F1: 0.9855 | Acc: 0.9943 | Alpha: 0.005300\n",
      "Epoch  45 | Valid Loss: 0.0326 | Valid Sparsity: 0.231 | F1: 0.9855 | Acc: 0.9943 | Alpha: 0.005400\n",
      "Epoch  46 | Valid Loss: 0.0328 | Valid Sparsity: 0.235 | F1: 0.9856 | Acc: 0.9943 | Alpha: 0.005500\n",
      "Epoch  47 | Valid Loss: 0.0330 | Valid Sparsity: 0.233 | F1: 0.9855 | Acc: 0.9943 | Alpha: 0.005600\n",
      "Epoch  48 | Valid Loss: 0.0332 | Valid Sparsity: 0.235 | F1: 0.9855 | Acc: 0.9943 | Alpha: 0.005700\n",
      "Epoch  49 | Valid Loss: 0.0334 | Valid Sparsity: 0.235 | F1: 0.9856 | Acc: 0.9943 | Alpha: 0.005800\n",
      "Epoch  50 | Valid Loss: 0.0337 | Valid Sparsity: 0.237 | F1: 0.9857 | Acc: 0.9943 | Alpha: 0.005900\n",
      "Epoch  51 | Valid Loss: 0.0339 | Valid Sparsity: 0.235 | F1: 0.9856 | Acc: 0.9943 | Alpha: 0.006000\n",
      "Epoch  52 | Valid Loss: 0.0341 | Valid Sparsity: 0.237 | F1: 0.9855 | Acc: 0.9943 | Alpha: 0.006100\n",
      "Epoch  53 | Valid Loss: 0.0343 | Valid Sparsity: 0.236 | F1: 0.9855 | Acc: 0.9943 | Alpha: 0.006200\n",
      "Epoch  54 | Valid Loss: 0.0345 | Valid Sparsity: 0.237 | F1: 0.9857 | Acc: 0.9943 | Alpha: 0.006300\n",
      "Epoch  55 | Valid Loss: 0.0347 | Valid Sparsity: 0.241 | F1: 0.9855 | Acc: 0.9943 | Alpha: 0.006400\n",
      "Epoch  56 | Valid Loss: 0.0349 | Valid Sparsity: 0.243 | F1: 0.9857 | Acc: 0.9943 | Alpha: 0.006500\n",
      "Epoch  57 | Valid Loss: 0.0351 | Valid Sparsity: 0.244 | F1: 0.9856 | Acc: 0.9943 | Alpha: 0.006600\n",
      "Epoch  58 | Valid Loss: 0.0354 | Valid Sparsity: 0.245 | F1: 0.9857 | Acc: 0.9943 | Alpha: 0.006700\n",
      "Epoch  59 | Valid Loss: 0.0356 | Valid Sparsity: 0.246 | F1: 0.9854 | Acc: 0.9943 | Alpha: 0.006800\n",
      "Epoch  60 | Valid Loss: 0.0358 | Valid Sparsity: 0.251 | F1: 0.9856 | Acc: 0.9943 | Alpha: 0.006900\n",
      "Epoch  61 | Valid Loss: 0.0360 | Valid Sparsity: 0.247 | F1: 0.9855 | Acc: 0.9943 | Alpha: 0.007000\n",
      "Epoch  62 | Valid Loss: 0.0362 | Valid Sparsity: 0.250 | F1: 0.9854 | Acc: 0.9943 | Alpha: 0.007100\n",
      "Epoch  63 | Valid Loss: 0.0364 | Valid Sparsity: 0.249 | F1: 0.9855 | Acc: 0.9943 | Alpha: 0.007200\n",
      "Epoch  64 | Valid Loss: 0.0366 | Valid Sparsity: 0.251 | F1: 0.9855 | Acc: 0.9943 | Alpha: 0.007300\n",
      "Epoch  65 | Valid Loss: 0.0368 | Valid Sparsity: 0.254 | F1: 0.9856 | Acc: 0.9943 | Alpha: 0.007400\n",
      "Epoch  66 | Valid Loss: 0.0370 | Valid Sparsity: 0.255 | F1: 0.9855 | Acc: 0.9943 | Alpha: 0.007500\n",
      "Epoch  67 | Valid Loss: 0.0372 | Valid Sparsity: 0.255 | F1: 0.9856 | Acc: 0.9943 | Alpha: 0.007600\n",
      "Epoch  68 | Valid Loss: 0.0374 | Valid Sparsity: 0.256 | F1: 0.9855 | Acc: 0.9943 | Alpha: 0.007700\n",
      "Epoch  69 | Valid Loss: 0.0377 | Valid Sparsity: 0.257 | F1: 0.9855 | Acc: 0.9943 | Alpha: 0.007800\n"
     ]
    }
   ],
   "source": [
    "mask_generator.fit(\n",
    "    model=best_model,\n",
    "    train_dataloader=train_dataloader,\n",
    "    valid_dataloader=valid_dataloader,\n",
    "    device=device,\n",
    "    threshold=MASK_THRESHOLD,\n",
    "    alpha=0.001,\n",
    "    epochs=70,\n",
    "    warmup_epochs=1,\n",
    "    lr=0.001\n",
    ")"
   ]
  },
  {
   "cell_type": "markdown",
   "id": "22086a8d",
   "metadata": {},
   "source": [
    "### Senza maschere:"
   ]
  },
  {
   "cell_type": "code",
   "execution_count": 12,
   "id": "3ba2d22e",
   "metadata": {},
   "outputs": [
    {
     "name": "stdout",
     "output_type": "stream",
     "text": [
      "\n",
      "=== Classification Report SENZA MASCHERE ===\n",
      "              precision    recall  f1-score   support\n",
      "\n",
      "        ddos     0.9900    0.9949    0.9925     50615\n",
      "   injection     0.9717    0.9871    0.9794     50967\n",
      "      normal     0.9677    0.9906    0.9790      9197\n",
      "    password     0.9980    0.9972    0.9976    189474\n",
      "    scanning     0.7829    0.9942    0.8760      4686\n",
      "         xss     0.9980    0.9867    0.9924    211140\n",
      "\n",
      "    accuracy                         0.9916    516079\n",
      "   macro avg     0.9514    0.9918    0.9695    516079\n",
      "weighted avg     0.9922    0.9916    0.9917    516079\n",
      "\n"
     ]
    }
   ],
   "source": [
    "y_pred = best_model.predict(test_dataloader, device)\n",
    "y_true = torch.cat([y for _, _, y in test_dataloader]).numpy()\n",
    "print(\"\\n=== Classification Report SENZA MASCHERE ===\")\n",
    "print(classification_report(y_true, y_pred.numpy(), target_names=target_names, digits=4))"
   ]
  },
  {
   "cell_type": "markdown",
   "id": "8522fc0f",
   "metadata": {},
   "source": [
    "### Con maschere"
   ]
  },
  {
   "cell_type": "code",
   "execution_count": 13,
   "id": "a1e27416",
   "metadata": {},
   "outputs": [
    {
     "name": "stdout",
     "output_type": "stream",
     "text": [
      "\n",
      "=== Classification Report CON MASCHERE ===\n",
      "              precision    recall  f1-score   support\n",
      "\n",
      "        ddos     0.9925    0.9943    0.9934     50615\n",
      "   injection     0.9791    0.9834    0.9812     50967\n",
      "      normal     0.9841    0.9867    0.9854      9197\n",
      "    password     0.9975    0.9981    0.9978    189474\n",
      "    scanning     0.9829    0.9298    0.9556      4686\n",
      "         xss     0.9952    0.9942    0.9947    211140\n",
      "\n",
      "    accuracy                         0.9938    516079\n",
      "   macro avg     0.9885    0.9811    0.9847    516079\n",
      "weighted avg     0.9938    0.9938    0.9938    516079\n",
      "\n"
     ]
    }
   ],
   "source": [
    "y_pred = best_model.predict_with_masks(test_dataloader, device, mask_generator, threshold=MASK_THRESHOLD)\n",
    "y_true = torch.cat([y for _, _, y in test_dataloader]).numpy()\n",
    "print(\"\\n=== Classification Report CON MASCHERE ===\")\n",
    "print(classification_report(y_true, y_pred.numpy(), target_names=target_names, digits=4))"
   ]
  },
  {
   "cell_type": "markdown",
   "id": "eb1a14b0",
   "metadata": {},
   "source": [
    "### Benchmark Temporale"
   ]
  },
  {
   "cell_type": "code",
   "execution_count": 14,
   "id": "690a5a94",
   "metadata": {},
   "outputs": [
    {
     "name": "stdout",
     "output_type": "stream",
     "text": [
      "Inference normale:     5.6575s\n",
      "Inference con maschere: 5.7193s\n",
      "Overhead relativo:     1.1%\n"
     ]
    },
    {
     "data": {
      "text/plain": [
       "(5.657474994659424, 5.719270062446594)"
      ]
     },
     "execution_count": 14,
     "metadata": {},
     "output_type": "execute_result"
    }
   ],
   "source": [
    "benchmark_inference_speed(\n",
    "    model=best_model,\n",
    "    mask_generator=mask_generator,\n",
    "    dataloader=test_dataloader,\n",
    "    device=device,\n",
    "    threshold=MASK_THRESHOLD,\n",
    "    num_runs=10\n",
    ")"
   ]
  }
 ],
 "metadata": {
  "kernelspec": {
   "display_name": "venv",
   "language": "python",
   "name": "python3"
  },
  "language_info": {
   "codemirror_mode": {
    "name": "ipython",
    "version": 3
   },
   "file_extension": ".py",
   "mimetype": "text/x-python",
   "name": "python",
   "nbconvert_exporter": "python",
   "pygments_lexer": "ipython3",
   "version": "3.12.3"
  }
 },
 "nbformat": 4,
 "nbformat_minor": 5
}
