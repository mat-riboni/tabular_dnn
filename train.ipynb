{
 "cells": [
  {
   "cell_type": "code",
   "execution_count": 1,
   "id": "5722b5e7",
   "metadata": {},
   "outputs": [],
   "source": [
    "from utils import load_and_prepare_data\n",
    "from neural_network import NeuralNetwork\n",
    "import torch\n",
    "\n",
    "dataset_path = './Dataset/http_ton.csv'\n",
    "\n",
    "numerical_cols = [\n",
    "        \"duration\",\n",
    "        \"dst_bytes\",\n",
    "        \"missed_bytes\",\n",
    "        \"src_bytes\",\n",
    "        \"src_ip_bytes\",\n",
    "        \"src_pkts\",\n",
    "        \"dst_pkts\",\n",
    "        \"dst_ip_bytes\",\n",
    "        \"http_request_body_len\",\n",
    "        \"http_response_body_len\"\n",
    "\n",
    "    ]\n",
    "\n",
    "categorical_cols = [\n",
    "        \"proto\",\n",
    "        \"conn_state\",\n",
    "        \"http_status_code\",\n",
    "        \"http_user_agent\",\n",
    "        \"http_method\"\n",
    "    ]\n",
    "\n",
    "target_col = 'type'\n",
    "values_to_remove = {'type': ['mitm', 'dos']}"
   ]
  },
  {
   "cell_type": "code",
   "execution_count": 2,
   "id": "e0b322dd",
   "metadata": {},
   "outputs": [],
   "source": [
    "train_dataloader, valid_dataloader, test_dataloader, cat_cardinalities = load_and_prepare_data(\n",
    "    file_path=dataset_path,\n",
    "    target_col=target_col,\n",
    "    numerical_cols=numerical_cols,\n",
    "    categorical_cols=categorical_cols,\n",
    "    rows_to_remove=values_to_remove\n",
    ")\n",
    "\n"
   ]
  },
  {
   "cell_type": "code",
   "execution_count": null,
   "id": "8237050a",
   "metadata": {},
   "outputs": [],
   "source": [
    "model = NeuralNetwork(\n",
    "    hidden_layers_sizes=[64, 32],\n",
    "    cat_cardinalities=cat_cardinalities,\n",
    "    embedding_dims=[min(50, (card + 1) // 2) for card in cat_cardinalities],\n",
    "    num_numerical_features=len(numerical_cols),\n",
    "    num_target_classes=6\n",
    ")"
   ]
  },
  {
   "cell_type": "code",
   "execution_count": null,
   "id": "5ade79b4",
   "metadata": {},
   "outputs": [
    {
     "name": "stdout",
     "output_type": "stream",
     "text": [
      "--- Epoch: 0  |  F1 Score: 0.0442  |  Accuracy: 0.1144 ---\n"
     ]
    },
    {
     "name": "stderr",
     "output_type": "stream",
     "text": [
      "Exception ignored in: <bound method IPythonKernel._clean_thread_parent_frames of <ipykernel.ipkernel.IPythonKernel object at 0x78f15d239c70>>\n",
      "Traceback (most recent call last):\n",
      "  File \"/home/mat-rib/Documents/tabular_dnn/venv/lib/python3.12/site-packages/ipykernel/ipkernel.py\", line 800, in _clean_thread_parent_frames\n",
      "    for identity in list(thread_to_parent_header.keys()):\n",
      "                         ^^^^^^^^^^^^^^^^^^^^^^^^^^^^^^\n",
      "KeyboardInterrupt: \n"
     ]
    },
    {
     "name": "stdout",
     "output_type": "stream",
     "text": [
      "--- Epoch: 1  |  F1 Score: 0.0949  |  Accuracy: 0.1322 ---\n"
     ]
    }
   ],
   "source": [
    "device = torch.device(\"cuda\" if torch.cuda.is_available() else \"cpu\")\n",
    "\n",
    "model.fit(\n",
    "    train_dataloader=train_dataloader,\n",
    "    valid_dataloader=valid_dataloader,\n",
    "    device=device,\n",
    ")"
   ]
  }
 ],
 "metadata": {
  "kernelspec": {
   "display_name": "venv",
   "language": "python",
   "name": "python3"
  },
  "language_info": {
   "codemirror_mode": {
    "name": "ipython",
    "version": 3
   },
   "file_extension": ".py",
   "mimetype": "text/x-python",
   "name": "python",
   "nbconvert_exporter": "python",
   "pygments_lexer": "ipython3",
   "version": "3.12.3"
  }
 },
 "nbformat": 4,
 "nbformat_minor": 5
}
