{
 "cells": [
  {
   "cell_type": "code",
   "execution_count": 1,
   "id": "5722b5e7",
   "metadata": {},
   "outputs": [],
   "source": [
    "from utils import load_and_prepare_data\n",
    "from neural_network import NeuralNetwork\n",
    "import torch\n",
    "\n",
    "dataset_path = './Dataset/http_ton.csv'\n",
    "\n",
    "numerical_cols = [\n",
    "        \"duration\",\n",
    "        \"dst_bytes\",\n",
    "        \"missed_bytes\",\n",
    "        \"src_bytes\",\n",
    "        \"src_ip_bytes\",\n",
    "        \"src_pkts\",\n",
    "        \"dst_pkts\",\n",
    "        \"dst_ip_bytes\",\n",
    "        \"http_request_body_len\",\n",
    "        \"http_response_body_len\"\n",
    "\n",
    "    ]\n",
    "\n",
    "categorical_cols = [\n",
    "        \"proto\",\n",
    "        \"conn_state\",\n",
    "        \"http_status_code\",\n",
    "        \"http_method\",\n",
    "        \"http_orig_mime_types\",\n",
    "        \"http_resp_mime_types\",\n",
    "    ]\n",
    "\n",
    "target_col = 'type'\n",
    "values_to_remove = {'type': ['mitm', 'dos']}"
   ]
  },
  {
   "cell_type": "code",
   "execution_count": 2,
   "id": "e0b322dd",
   "metadata": {},
   "outputs": [],
   "source": [
    "train_dataloader, valid_dataloader, test_dataloader, cat_cardinalities = load_and_prepare_data(\n",
    "    file_path=dataset_path,\n",
    "    target_col=target_col,\n",
    "    numerical_cols=numerical_cols,\n",
    "    categorical_cols=categorical_cols,\n",
    "    rows_to_remove=values_to_remove,\n",
    "    batch_size=1024\n",
    ")"
   ]
  },
  {
   "cell_type": "code",
   "execution_count": null,
   "id": "8237050a",
   "metadata": {},
   "outputs": [],
   "source": [
    "model = NeuralNetwork(\n",
    "    hidden_layers_sizes=[256, 128, 64],\n",
    "    cat_cardinalities=cat_cardinalities,\n",
    "    embedding_dims=[min(50, (card + 1) // 2) for card in cat_cardinalities],\n",
    "    num_numerical_features=len(numerical_cols),\n",
    "    num_target_classes=6\n",
    ")"
   ]
  },
  {
   "cell_type": "code",
   "execution_count": null,
   "id": "5ade79b4",
   "metadata": {},
   "outputs": [
    {
     "name": "stdout",
     "output_type": "stream",
     "text": [
      "--- Epoch: 0  |  Loss: 0.1573  |  F1 Score: 0.3959  |  Accuracy: 0.4897 ---\n",
      "--- Epoch: 1  |  Loss: 0.1255  |  F1 Score: 0.6893  |  Accuracy: 0.8134 ---\n",
      "--- Epoch: 2  |  Loss: 0.0897  |  F1 Score: 0.6307  |  Accuracy: 0.7040 ---\n",
      "--- Epoch: 3  |  Loss: 0.0670  |  F1 Score: 0.5648  |  Accuracy: 0.6303 ---\n",
      "--- Epoch: 4  |  Loss: 0.0577  |  F1 Score: 0.4395  |  Accuracy: 0.5160 ---\n",
      "--- Epoch: 5  |  Loss: 0.0699  |  F1 Score: 0.3627  |  Accuracy: 0.4304 ---\n",
      "--- Epoch: 6  |  Loss: 0.0577  |  F1 Score: 0.5545  |  Accuracy: 0.6334 ---\n",
      "--- Epoch: 7  |  Loss: 0.0458  |  F1 Score: 0.7094  |  Accuracy: 0.8340 ---\n",
      "--- Epoch: 8  |  Loss: 0.0405  |  F1 Score: 0.3708  |  Accuracy: 0.4744 ---\n",
      "--- Epoch: 9  |  Loss: 0.0412  |  F1 Score: 0.5997  |  Accuracy: 0.6544 ---\n"
     ]
    }
   ],
   "source": [
    "device = torch.device(\"cuda\" if torch.cuda.is_available() else \"cpu\")\n",
    "\n",
    "model.fit(\n",
    "    train_dataloader=train_dataloader,\n",
    "    valid_dataloader=valid_dataloader,\n",
    "    device=device,\n",
    "    lr=1e-3,\n",
    "    epochs=20\n",
    ")"
   ]
  }
 ],
 "metadata": {
  "kernelspec": {
   "display_name": "venv",
   "language": "python",
   "name": "python3"
  },
  "language_info": {
   "codemirror_mode": {
    "name": "ipython",
    "version": 3
   },
   "file_extension": ".py",
   "mimetype": "text/x-python",
   "name": "python",
   "nbconvert_exporter": "python",
   "pygments_lexer": "ipython3",
   "version": "3.12.3"
  }
 },
 "nbformat": 4,
 "nbformat_minor": 5
}
