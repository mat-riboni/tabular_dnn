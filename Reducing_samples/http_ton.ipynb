{
 "cells": [
  {
   "cell_type": "code",
   "execution_count": null,
   "id": "5722b5e7",
   "metadata": {},
   "outputs": [],
   "source": [
    "from utils import load_and_prepare_data, make_stratified_subset_dataloaders\n",
    "from neural_network import NeuralNetwork\n",
    "import torch\n",
    "from sklearn.decomposition import PCA\n",
    "from sklearn.manifold import TSNE\n",
    "from sklearn.metrics import f1_score\n",
    "import seaborn as sns\n",
    "import matplotlib.pyplot as plt\n",
    "import numpy as np\n",
    "\n",
    "dataset_path = 'datasets/http_ton.csv'\n",
    "\n",
    "numerical_cols = [\n",
    "        \"duration\",\n",
    "        \"dst_bytes\",\n",
    "        \"missed_bytes\",\n",
    "        \"src_bytes\",\n",
    "        \"src_ip_bytes\",\n",
    "        \"src_pkts\",\n",
    "        \"dst_pkts\",\n",
    "        \"dst_ip_bytes\",\n",
    "        \"http_request_body_len\",\n",
    "        \"http_response_body_len\"\n",
    "\n",
    "    ]\n",
    "\n",
    "categorical_cols = [\n",
    "        \"proto\",\n",
    "        \"conn_state\",\n",
    "        \"http_status_code\",\n",
    "        \"http_method\",\n",
    "        \"http_orig_mime_types\",\n",
    "        \"http_resp_mime_types\",\n",
    "    ]\n",
    "\n",
    "target_col = 'type'\n",
    "values_to_remove = {'type': ['mitm', 'dos']}\n",
    "epochs = 15\n",
    "fractions = [1.00, 0.75, 0.50, 0.25, 0.10, 0.05]\n",
    "f1_scores = []"
   ]
  },
  {
   "cell_type": "code",
   "execution_count": null,
   "id": "14e2a3af",
   "metadata": {},
   "outputs": [],
   "source": [
    "device = torch.device(\"cuda\" if torch.cuda.is_available() else \"cpu\")\n"
   ]
  },
  {
   "cell_type": "code",
   "execution_count": null,
   "id": "e0b322dd",
   "metadata": {},
   "outputs": [],
   "source": [
    "train_dataloader, valid_dataloader, test_dataloader, cat_cardinalities, cw, target_names, train_dataset, y_train = load_and_prepare_data(\n",
    "    file_path=dataset_path,\n",
    "    target_col=target_col,\n",
    "    numerical_cols=numerical_cols,\n",
    "    categorical_cols=categorical_cols,\n",
    "    rows_to_remove=values_to_remove,\n",
    "    batch_size=4096\n",
    ")"
   ]
  },
  {
   "cell_type": "code",
   "execution_count": null,
   "id": "0d4adc07",
   "metadata": {},
   "outputs": [],
   "source": [
    "\n",
    "dl_map = make_stratified_subset_dataloaders(\n",
    "    train_dataset, y_train, fractions, batch_size=512, random_state=42\n",
    ")"
   ]
  },
  {
   "cell_type": "code",
   "execution_count": null,
   "id": "8237050a",
   "metadata": {},
   "outputs": [],
   "source": [
    "for frac, sub_loader in dl_map.items():\n",
    "    \n",
    "    model = NeuralNetwork(\n",
    "        hidden_layers_sizes=[256, 256, 256], \n",
    "        cat_cardinalities=cat_cardinalities,\n",
    "        embedding_dims=[min(50, (card + 1) // 2) for card in cat_cardinalities],\n",
    "        num_numerical_features=len(numerical_cols),\n",
    "        num_target_classes=6,\n",
    "    ).to(device)\n",
    "\n",
    "    optimizer = torch.optim.AdamW(model.parameters(), lr=0.001, weight_decay=1e-4)\n",
    "    scheduler = torch.optim.lr_scheduler.ReduceLROnPlateau(optimizer, mode='max', factor=0.85, patience=5)\n",
    "\n",
    "    model.fit(\n",
    "        train_dataloader=train_dataloader,\n",
    "        valid_dataloader=valid_dataloader,\n",
    "        device=device,\n",
    "        optimizer=optimizer,\n",
    "        lr_scheduler=scheduler,\n",
    "        epochs=epochs,\n",
    "        weights = cw\n",
    "    )\n",
    "\n",
    "    y_pred = model.predict(test_dataloader, device)\n",
    "    y_true = torch.cat([y for _, _, y in test_dataloader]).numpy()\n",
    "    f1_scores.append((frac, f1_score(y_true, y_pred, average=\"weighted\")))\n"
   ]
  },
  {
   "cell_type": "code",
   "execution_count": null,
   "id": "cfc3b733",
   "metadata": {},
   "outputs": [],
   "source": [
    "fractions = [f for f, _ in f1_scores]\n",
    "f1_vals   = [f1 for _, f1 in f1_scores]\n",
    "\n",
    "plt.figure(figsize=(6,4))\n",
    "plt.plot([int(f*100) for f in fractions], f1_vals, marker=\"o\")\n",
    "plt.xlabel(\"Percentuale di training samples (%)\")\n",
    "plt.ylabel(\"F1 score\")\n",
    "plt.title(\"Andamento F1 al variare della frazione di training\")\n",
    "plt.grid(True)\n",
    "plt.show()"
   ]
  }
 ],
 "metadata": {
  "kernelspec": {
   "display_name": "venv",
   "language": "python",
   "name": "python3"
  },
  "language_info": {
   "codemirror_mode": {
    "name": "ipython",
    "version": 3
   },
   "file_extension": ".py",
   "mimetype": "text/x-python",
   "name": "python",
   "nbconvert_exporter": "python",
   "pygments_lexer": "ipython3",
   "version": "3.12.3"
  }
 },
 "nbformat": 4,
 "nbformat_minor": 5
}
