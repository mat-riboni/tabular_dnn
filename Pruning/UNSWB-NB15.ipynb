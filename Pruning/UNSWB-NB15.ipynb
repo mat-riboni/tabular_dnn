{
 "cells": [
  {
   "cell_type": "code",
   "execution_count": 1,
   "id": "3e2c1364",
   "metadata": {},
   "outputs": [],
   "source": [
    "from utils import load_and_prepare_nb15, structured_prune_hidden, benchmark_cpu\n",
    "from neural_network import *\n",
    "import time\n",
    "from sklearn.metrics import classification_report\n",
    "\n",
    "\n",
    "\n",
    "numerical_cols = [\n",
    "    \"NUM_PKTS_128_TO_256_BYTES\",\n",
    "    \"RETRANSMITTED_OUT_PKTS\",\n",
    "    \"SRC_TO_DST_IAT_STDDEV\",\n",
    "    \"SRC_TO_DST_SECOND_BYTES\",\n",
    "    \"IN_PKTS\",\n",
    "    \"LONGEST_FLOW_PKT\",\n",
    "    \"NUM_PKTS_256_TO_512_BYTES\",\n",
    "    \"DST_TO_SRC_IAT_AVG\",\n",
    "    \"OUT_BYTES\",\n",
    "    \"NUM_PKTS_UP_TO_128_BYTES\",\n",
    "    \"DURATION_OUT\",\n",
    "    \"NUM_PKTS_512_TO_1024_BYTES\",\n",
    "    \"SRC_TO_DST_IAT_AVG\",\n",
    "    \"DURATION_IN\",\n",
    "    \"SHORTEST_FLOW_PKT\",\n",
    "    \"RETRANSMITTED_IN_PKTS\",\n",
    "    \"FLOW_DURATION_MILLISECONDS\",\n",
    "    \"IN_BYTES\",\n",
    "    \"MIN_IP_PKT_LEN\",\n",
    "    \"TCP_WIN_MAX_OUT\",\n",
    "    \"SRC_TO_DST_IAT_MIN\",\n",
    "    \"RETRANSMITTED_OUT_BYTES\",\n",
    "    \"DST_TO_SRC_IAT_MAX\",\n",
    "    \"DST_TO_SRC_SECOND_BYTES\",\n",
    "    \"DNS_TTL_ANSWER\",\n",
    "    \"NUM_PKTS_1024_TO_1514_BYTES\",\n",
    "    \"SRC_TO_DST_AVG_THROUGHPUT\",\n",
    "    \"DST_TO_SRC_IAT_STDDEV\",\n",
    "    \"OUT_PKTS\",\n",
    "    \"SRC_TO_DST_IAT_MAX\",\n",
    "    \"TCP_WIN_MAX_IN\",\n",
    "    \"MAX_IP_PKT_LEN\",\n",
    "    \"DST_TO_SRC_AVG_THROUGHPUT\",\n",
    "    \"DST_TO_SRC_IAT_MIN\",\n",
    "    \"RETRANSMITTED_IN_BYTES\"\n",
    "\n",
    "    ]\n",
    "\n",
    "categorical_cols = [\n",
    "    \"PROTOCOL\",\n",
    "    \"L7_PROTO\",\n",
    "    \"TCP_FLAGS\",\n",
    "    \"CLIENT_TCP_FLAGS\",\n",
    "    \"SERVER_TCP_FLAGS\",\n",
    "    \"ICMP_TYPE\",\n",
    "    \"ICMP_IPV4_TYPE\",\n",
    "    \"DNS_QUERY_TYPE\",\n",
    "    \"FTP_COMMAND_RET_CODE\"\n",
    "    ]\n",
    "\n",
    "target_col = 'Attack'\n",
    "num_target_classes = 10\n",
    "dataset_path = 'datasets/NF-UNSW-NB15-v3.csv'\n",
    "batch_size = 2048\n",
    "epochs = 20\n"
   ]
  },
  {
   "cell_type": "code",
   "execution_count": 2,
   "id": "9df5c55b",
   "metadata": {},
   "outputs": [],
   "source": [
    "train_dataloader, valid_dataloader, test_dataloader, cat_cardinalities, cw, target_names = load_and_prepare_nb15(\n",
    "    file_path=dataset_path,\n",
    "    target_col=target_col,\n",
    "    numerical_cols=numerical_cols,\n",
    "    categorical_cols=categorical_cols,\n",
    "    batch_size=batch_size,\n",
    ")\n",
    "\n",
    "embedding_dims = [min(50, (card + 1) // 2) for card in cat_cardinalities]"
   ]
  },
  {
   "cell_type": "code",
   "execution_count": 3,
   "id": "168e5949",
   "metadata": {},
   "outputs": [],
   "source": [
    "model = NeuralNetwork(\n",
    "    hidden_layers_sizes=[256, 256, 256], \n",
    "    cat_cardinalities=cat_cardinalities,\n",
    "    embedding_dims=embedding_dims,\n",
    "    num_numerical_features=len(numerical_cols),\n",
    "    num_target_classes=num_target_classes,\n",
    ")"
   ]
  },
  {
   "cell_type": "code",
   "execution_count": 4,
   "id": "8610ff8a",
   "metadata": {},
   "outputs": [],
   "source": [
    "device = torch.device(\"cuda\" if torch.cuda.is_available() else \"cpu\")"
   ]
  },
  {
   "cell_type": "code",
   "execution_count": 5,
   "id": "972d3c7c",
   "metadata": {},
   "outputs": [],
   "source": [
    "optimizer = torch.optim.AdamW(model.parameters(), lr=0.001, weight_decay=1e-4)\n",
    "scheduler = torch.optim.lr_scheduler.ReduceLROnPlateau(optimizer, mode='max', factor=0.5, patience=5)"
   ]
  },
  {
   "cell_type": "code",
   "execution_count": 6,
   "id": "98e31e27",
   "metadata": {},
   "outputs": [
    {
     "name": "stdout",
     "output_type": "stream",
     "text": [
      "--- Epoch: 0  |  Loss: 0.0827  |  F1 Score: 0.4449  |  Accuracy: 0.9789 ---\n",
      "--- Epoch: 1  |  Loss: 0.0698  |  F1 Score: 0.4685  |  Accuracy: 0.9804 ---\n",
      "--- Epoch: 2  |  Loss: 0.0651  |  F1 Score: 0.4928  |  Accuracy: 0.9826 ---\n",
      "--- Epoch: 3  |  Loss: 0.0733  |  F1 Score: 0.4788  |  Accuracy: 0.9791 ---\n",
      "--- Epoch: 4  |  Loss: 0.0594  |  F1 Score: 0.4759  |  Accuracy: 0.9799 ---\n",
      "--- Epoch: 5  |  Loss: 0.0548  |  F1 Score: 0.5145  |  Accuracy: 0.9821 ---\n",
      "--- Epoch: 6  |  Loss: 0.0567  |  F1 Score: 0.5019  |  Accuracy: 0.9813 ---\n",
      "--- Epoch: 7  |  Loss: 0.0516  |  F1 Score: 0.5368  |  Accuracy: 0.9825 ---\n",
      "--- Epoch: 8  |  Loss: 0.0513  |  F1 Score: 0.5381  |  Accuracy: 0.9830 ---\n",
      "--- Epoch: 9  |  Loss: 0.0513  |  F1 Score: 0.5266  |  Accuracy: 0.9825 ---\n",
      "--- Epoch: 10  |  Loss: 0.0516  |  F1 Score: 0.5318  |  Accuracy: 0.9819 ---\n",
      "--- Epoch: 11  |  Loss: 0.0498  |  F1 Score: 0.5371  |  Accuracy: 0.9831 ---\n",
      "--- Epoch: 12  |  Loss: 0.0516  |  F1 Score: 0.5347  |  Accuracy: 0.9821 ---\n",
      "--- Epoch: 13  |  Loss: 0.0508  |  F1 Score: 0.5456  |  Accuracy: 0.9820 ---\n",
      "--- Epoch: 14  |  Loss: 0.0494  |  F1 Score: 0.5534  |  Accuracy: 0.9828 ---\n",
      "--- Epoch: 15  |  Loss: 0.0514  |  F1 Score: 0.5525  |  Accuracy: 0.9825 ---\n",
      "--- Epoch: 16  |  Loss: 0.0508  |  F1 Score: 0.5483  |  Accuracy: 0.9829 ---\n",
      "--- Epoch: 17  |  Loss: 0.0505  |  F1 Score: 0.5493  |  Accuracy: 0.9825 ---\n",
      "--- Epoch: 18  |  Loss: 0.0503  |  F1 Score: 0.5500  |  Accuracy: 0.9823 ---\n",
      "--- Epoch: 19  |  Loss: 0.0502  |  F1 Score: 0.5588  |  Accuracy: 0.9828 ---\n"
     ]
    }
   ],
   "source": [
    "model.fit(\n",
    "    train_dataloader=train_dataloader,\n",
    "    valid_dataloader=valid_dataloader,\n",
    "    device=device,\n",
    "    optimizer=optimizer,\n",
    "    lr_scheduler=scheduler,\n",
    "    epochs=epochs,\n",
    "    weights=cw\n",
    ")"
   ]
  },
  {
   "cell_type": "code",
   "execution_count": 8,
   "id": "1bcc5290",
   "metadata": {},
   "outputs": [
    {
     "name": "stdout",
     "output_type": "stream",
     "text": [
      "--- Epoch: 0  |  Loss: 0.0510  |  F1 Score: 0.5446  |  Accuracy: 0.9827 ---\n",
      "--- Epoch: 1  |  Loss: 0.0505  |  F1 Score: 0.5480  |  Accuracy: 0.9825 ---\n",
      "--- Epoch: 2  |  Loss: 0.0519  |  F1 Score: 0.5391  |  Accuracy: 0.9827 ---\n",
      "--- Epoch: 3  |  Loss: 0.0512  |  F1 Score: 0.5393  |  Accuracy: 0.9826 ---\n",
      "--- Epoch: 4  |  Loss: 0.0517  |  F1 Score: 0.5465  |  Accuracy: 0.9824 ---\n",
      "--- Epoch: 5  |  Loss: 0.0514  |  F1 Score: 0.5439  |  Accuracy: 0.9818 ---\n",
      "--- Epoch: 6  |  Loss: 0.0512  |  F1 Score: 0.5391  |  Accuracy: 0.9823 ---\n",
      "--- Epoch: 7  |  Loss: 0.0494  |  F1 Score: 0.5535  |  Accuracy: 0.9828 ---\n",
      "--- Epoch: 8  |  Loss: 0.0502  |  F1 Score: 0.5349  |  Accuracy: 0.9825 ---\n",
      "--- Epoch: 9  |  Loss: 0.0494  |  F1 Score: 0.5562  |  Accuracy: 0.9833 ---\n"
     ]
    }
   ],
   "source": [
    "pruned = structured_prune_hidden(model, keep_ratio=0.7, device=\"cpu\")\n",
    "pruned.fit(train_dataloader, valid_dataloader, weights=cw, device=\"cpu\", epochs=10, lr=5e-4)"
   ]
  },
  {
   "cell_type": "code",
   "execution_count": 9,
   "id": "bef32fc5",
   "metadata": {},
   "outputs": [
    {
     "name": "stdout",
     "output_type": "stream",
     "text": [
      "Standard Model:\n",
      " {'batch_size': 2048, 'num_threads': 1, 'median_ms': 9.778524500688945, 'p95_ms': 10.84729954945942, 'throughput_sps': 209075.66221108846}\n",
      "--------------------\n",
      "Pruned model:\n",
      " {'batch_size': 2048, 'num_threads': 1, 'median_ms': 6.451109000408906, 'p95_ms': 7.454160450197376, 'throughput_sps': 317922.1889819181}\n"
     ]
    }
   ],
   "source": [
    "std_times = benchmark_cpu(model, test_dataloader, num_threads=1)\n",
    "print(f\"Standard Model:\\n {std_times}\")\n",
    "print(\"--------------------\")\n",
    "pruned_times = benchmark_cpu(pruned, test_dataloader, num_threads=1)\n",
    "print(f\"Pruned model:\\n {pruned_times}\")"
   ]
  },
  {
   "cell_type": "code",
   "execution_count": 10,
   "id": "a1121880",
   "metadata": {},
   "outputs": [
    {
     "name": "stdout",
     "output_type": "stream",
     "text": [
      "Riduzione tempo di inferenza: -34.2%\n"
     ]
    }
   ],
   "source": [
    "std = std_times['throughput_sps']\n",
    "pru = pruned_times['throughput_sps']\n",
    "\n",
    "latency_reduction_pct = (1 - std / pru) * 100\n",
    "print(f\"Riduzione tempo di inferenza: -{latency_reduction_pct:.1f}%\")"
   ]
  },
  {
   "cell_type": "code",
   "execution_count": 11,
   "id": "39832d07",
   "metadata": {},
   "outputs": [],
   "source": [
    "y_true = torch.cat([y for _, _, y in test_dataloader]).numpy()"
   ]
  },
  {
   "cell_type": "code",
   "execution_count": 12,
   "id": "d8ff3501",
   "metadata": {},
   "outputs": [],
   "source": [
    "model_preds = model.predict(test_dataloader,device)\n",
    "pruned_preds = pruned.predict(test_dataloader,device)"
   ]
  },
  {
   "cell_type": "code",
   "execution_count": 13,
   "id": "39ac820a",
   "metadata": {},
   "outputs": [
    {
     "name": "stdout",
     "output_type": "stream",
     "text": [
      "\n",
      "=== Classification Report DNN===\n",
      "                precision    recall  f1-score   support\n",
      "\n",
      "      Analysis     0.2664    0.9511    0.4162       184\n",
      "      Backdoor     0.1306    0.3772    0.1940       517\n",
      "        Benign     1.0000    0.9996    0.9998    322654\n",
      "           DoS     0.2248    0.4116    0.2908       758\n",
      "      Exploits     0.9112    0.5059    0.6506      5823\n",
      "       Fuzzers     0.7181    0.7381    0.7280      3838\n",
      "       Generic     0.5546    0.6611    0.6032       714\n",
      "Reconnaissance     0.6806    0.5962    0.6356      1694\n",
      "     Shellcode     0.2252    0.7647    0.3480       238\n",
      "         Worms     0.4444    1.0000    0.6154        20\n",
      "\n",
      "      accuracy                         0.9829    336440\n",
      "     macro avg     0.5156    0.7006    0.5482    336440\n",
      "  weighted avg     0.9886    0.9829    0.9844    336440\n",
      "\n",
      "\n",
      "=== Classification Report Pruned===\n",
      "                precision    recall  f1-score   support\n",
      "\n",
      "      Analysis     0.2612    0.9511    0.4098       184\n",
      "      Backdoor     0.1431    0.3791    0.2077       517\n",
      "        Benign     1.0000    0.9996    0.9998    322654\n",
      "           DoS     0.2348    0.4037    0.2969       758\n",
      "      Exploits     0.9065    0.5343    0.6723      5823\n",
      "       Fuzzers     0.7176    0.7470    0.7320      3838\n",
      "       Generic     0.5917    0.6373    0.6136       714\n",
      "Reconnaissance     0.6609    0.6122    0.6356      1694\n",
      "     Shellcode     0.2423    0.7647    0.3680       238\n",
      "         Worms     0.4000    1.0000    0.5714        20\n",
      "\n",
      "      accuracy                         0.9835    336440\n",
      "     macro avg     0.5158    0.7029    0.5507    336440\n",
      "  weighted avg     0.9886    0.9835    0.9848    336440\n",
      "\n"
     ]
    }
   ],
   "source": [
    "print(\"\\n=== Classification Report DNN===\")\n",
    "print(classification_report(y_true, model_preds.numpy(), target_names=target_names, digits=4))\n",
    "print(\"\\n=== Classification Report Pruned===\")\n",
    "print(classification_report(y_true, pruned_preds.numpy(), target_names=target_names, digits=4))\n"
   ]
  }
 ],
 "metadata": {
  "kernelspec": {
   "display_name": "venv",
   "language": "python",
   "name": "python3"
  },
  "language_info": {
   "codemirror_mode": {
    "name": "ipython",
    "version": 3
   },
   "file_extension": ".py",
   "mimetype": "text/x-python",
   "name": "python",
   "nbconvert_exporter": "python",
   "pygments_lexer": "ipython3",
   "version": "3.12.3"
  }
 },
 "nbformat": 4,
 "nbformat_minor": 5
}
