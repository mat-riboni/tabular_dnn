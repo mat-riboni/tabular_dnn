{
 "cells": [
  {
   "cell_type": "code",
   "execution_count": null,
   "id": "3e2c1364",
   "metadata": {},
   "outputs": [],
   "source": [
    "from utils import load_and_prepare_data, structured_prune_hidden, benchmark_cpu\n",
    "from neural_network import *\n",
    "import time\n",
    "from sklearn.metrics import classification_report\n",
    "\n",
    "numerical_cols = [\n",
    "        \"duration\",\n",
    "        \"dst_bytes\",\n",
    "        \"missed_bytes\",\n",
    "        \"src_bytes\",\n",
    "        \"src_ip_bytes\",\n",
    "        \"src_pkts\",\n",
    "        \"dst_pkts\",\n",
    "        \"dst_ip_bytes\",\n",
    "        \"http_request_body_len\",\n",
    "        \"http_response_body_len\"\n",
    "\n",
    "    ]\n",
    "\n",
    "categorical_cols = [\n",
    "        \"proto\",\n",
    "        \"conn_state\",\n",
    "        \"http_status_code\",\n",
    "        \"http_method\",\n",
    "        \"http_orig_mime_types\",\n",
    "        \"http_resp_mime_types\",\n",
    "    ]\n",
    "\n",
    "\n",
    "target_col = 'type'\n",
    "num_target_classes = 8\n",
    "dataset_path = 'datasets/http_ton.csv'\n",
    "batch_size = 2048\n",
    "epochs = 20\n",
    "values_to_remove = {'type': ['mitm', 'dos']}"
   ]
  },
  {
   "cell_type": "code",
   "execution_count": null,
   "id": "9df5c55b",
   "metadata": {},
   "outputs": [],
   "source": [
    "train_dataloader, valid_dataloader, test_dataloader, cat_cardinalities, cw, target_names = load_and_prepare_data(\n",
    "    file_path=dataset_path,\n",
    "    target_col=target_col,\n",
    "    numerical_cols=numerical_cols,\n",
    "    categorical_cols=categorical_cols,\n",
    "    batch_size=batch_size,\n",
    "    rows_to_remove=values_to_remove\n",
    ")\n",
    "\n",
    "embedding_dims = [min(50, (card + 1) // 2) for card in cat_cardinalities]"
   ]
  },
  {
   "cell_type": "code",
   "execution_count": 3,
   "id": "168e5949",
   "metadata": {},
   "outputs": [],
   "source": [
    "model = NeuralNetwork(\n",
    "    hidden_layers_sizes=[256, 256, 256], \n",
    "    cat_cardinalities=cat_cardinalities,\n",
    "    embedding_dims=embedding_dims,\n",
    "    num_numerical_features=len(numerical_cols),\n",
    "    num_target_classes=num_target_classes,\n",
    ")"
   ]
  },
  {
   "cell_type": "code",
   "execution_count": 4,
   "id": "972d3c7c",
   "metadata": {},
   "outputs": [],
   "source": [
    "device = torch.device(\"cuda\" if torch.cuda.is_available() else \"cpu\")\n",
    "optimizer = torch.optim.AdamW(model.parameters(), lr=0.001, weight_decay=1e-4)\n",
    "scheduler = torch.optim.lr_scheduler.ReduceLROnPlateau(optimizer, mode='max', factor=0.85, patience=5)"
   ]
  },
  {
   "cell_type": "code",
   "execution_count": null,
   "id": "98e31e27",
   "metadata": {},
   "outputs": [
    {
     "name": "stdout",
     "output_type": "stream",
     "text": [
      "--- Epoch: 0  |  Loss: 0.3425  |  F1 Score: 0.5283  |  Accuracy: 0.8693 ---\n",
      "--- Epoch: 1  |  Loss: 0.2043  |  F1 Score: 0.7053  |  Accuracy: 0.9428 ---\n",
      "--- Epoch: 2  |  Loss: 0.1681  |  F1 Score: 0.7161  |  Accuracy: 0.9570 ---\n",
      "--- Epoch: 3  |  Loss: 0.1360  |  F1 Score: 0.6809  |  Accuracy: 0.9630 ---\n",
      "--- Epoch: 4  |  Loss: 0.1198  |  F1 Score: 0.6890  |  Accuracy: 0.9655 ---\n",
      "--- Epoch: 5  |  Loss: 0.1250  |  F1 Score: 0.6973  |  Accuracy: 0.9661 ---\n",
      "--- Epoch: 6  |  Loss: 0.1338  |  F1 Score: 0.7289  |  Accuracy: 0.9527 ---\n",
      "--- Epoch: 7  |  Loss: 0.2285  |  F1 Score: 0.6551  |  Accuracy: 0.9234 ---\n",
      "--- Epoch: 8  |  Loss: 0.1041  |  F1 Score: 0.7385  |  Accuracy: 0.9691 ---\n",
      "--- Epoch: 9  |  Loss: 0.1003  |  F1 Score: 0.7602  |  Accuracy: 0.9761 ---\n",
      "--- Epoch: 10  |  Loss: 0.1270  |  F1 Score: 0.7446  |  Accuracy: 0.9695 ---\n",
      "--- Epoch: 11  |  Loss: 0.1185  |  F1 Score: 0.7084  |  Accuracy: 0.9762 ---\n",
      "--- Epoch: 12  |  Loss: 0.1097  |  F1 Score: 0.7669  |  Accuracy: 0.9807 ---\n",
      "--- Epoch: 13  |  Loss: 0.2145  |  F1 Score: 0.7173  |  Accuracy: 0.9822 ---\n",
      "--- Epoch: 14  |  Loss: 0.2170  |  F1 Score: 0.7626  |  Accuracy: 0.9821 ---\n",
      "--- Epoch: 15  |  Loss: 0.2367  |  F1 Score: 0.7636  |  Accuracy: 0.9793 ---\n",
      "--- Epoch: 16  |  Loss: 0.4429  |  F1 Score: 0.6575  |  Accuracy: 0.9195 ---\n",
      "--- Epoch: 17  |  Loss: 0.2521  |  F1 Score: 0.7193  |  Accuracy: 0.9771 ---\n",
      "--- Epoch: 18  |  Loss: 0.2100  |  F1 Score: 0.7213  |  Accuracy: 0.9791 ---\n",
      "--- Epoch: 19  |  Loss: 0.2118  |  F1 Score: 0.7699  |  Accuracy: 0.9815 ---\n"
     ]
    }
   ],
   "source": [
    "model.fit(\n",
    "    train_dataloader=train_dataloader,\n",
    "    valid_dataloader=valid_dataloader,\n",
    "    device=device,\n",
    "    optimizer=optimizer,\n",
    "    lr_scheduler=scheduler,\n",
    "    epochs=epochs,\n",
    "    weights=cw\n",
    ")"
   ]
  },
  {
   "cell_type": "code",
   "execution_count": null,
   "id": "ba5f36ff",
   "metadata": {},
   "outputs": [
    {
     "name": "stdout",
     "output_type": "stream",
     "text": [
      "--- Epoch: 0  |  Loss: 0.1787  |  F1 Score: 0.7201  |  Accuracy: 0.9847 ---\n",
      "--- Epoch: 1  |  Loss: 0.1715  |  F1 Score: 0.7241  |  Accuracy: 0.9858 ---\n",
      "--- Epoch: 2  |  Loss: 0.1897  |  F1 Score: 0.7086  |  Accuracy: 0.9817 ---\n",
      "--- Epoch: 3  |  Loss: 0.1983  |  F1 Score: 0.7259  |  Accuracy: 0.9878 ---\n",
      "--- Epoch: 4  |  Loss: 0.1946  |  F1 Score: 0.7312  |  Accuracy: 0.9897 ---\n"
     ]
    }
   ],
   "source": [
    "pruned = structured_prune_hidden(model, keep_ratio=0.7, device=\"cpu\")\n",
    "pruned.fit(train_dataloader, valid_dataloader, weights=cw, device=\"cpu\", epochs=10, lr=5e-4)"
   ]
  },
  {
   "cell_type": "code",
   "execution_count": 9,
   "id": "81629dbd",
   "metadata": {},
   "outputs": [
    {
     "name": "stdout",
     "output_type": "stream",
     "text": [
      "Standard Model:\n",
      " {'batch_size': 2048, 'num_threads': 1, 'median_ms': 7.435993499711913, 'p95_ms': 9.527142450406243, 'throughput_sps': 271973.93703453563}\n",
      "--------------------\n",
      "Pruned model:\n",
      " {'batch_size': 2048, 'num_threads': 1, 'median_ms': 4.158681998887914, 'p95_ms': 5.349523000404588, 'throughput_sps': 491456.33222593716}\n"
     ]
    }
   ],
   "source": [
    "std_times = benchmark_cpu(model, test_dataloader, num_threads=1)\n",
    "print(f\"Standard Model:\\n {std_times}\")\n",
    "print(\"--------------------\")\n",
    "pruned_times = benchmark_cpu(pruned, test_dataloader, num_threads=1)\n",
    "print(f\"Pruned model:\\n {pruned_times}\")"
   ]
  },
  {
   "cell_type": "code",
   "execution_count": 15,
   "id": "061db5e0",
   "metadata": {},
   "outputs": [
    {
     "name": "stdout",
     "output_type": "stream",
     "text": [
      "Riduzione tempo di inferenza: -44.7%\n"
     ]
    }
   ],
   "source": [
    "std = std_times['throughput_sps']\n",
    "pru = pruned_times['throughput_sps']\n",
    "\n",
    "latency_reduction_pct = (1 - std / pru) * 100\n",
    "print(f\"Riduzione tempo di inferenza: -{latency_reduction_pct:.1f}%\")"
   ]
  },
  {
   "cell_type": "code",
   "execution_count": 16,
   "id": "6c3c0041",
   "metadata": {},
   "outputs": [],
   "source": [
    "y_true = torch.cat([y for _, _, y in test_dataloader]).numpy()"
   ]
  },
  {
   "cell_type": "code",
   "execution_count": 17,
   "id": "ed277acd",
   "metadata": {},
   "outputs": [],
   "source": [
    "model_preds = model.predict(test_dataloader,device)\n",
    "pruned_preds = pruned.predict(test_dataloader,device)"
   ]
  },
  {
   "cell_type": "code",
   "execution_count": 19,
   "id": "b6273d4e",
   "metadata": {},
   "outputs": [
    {
     "name": "stdout",
     "output_type": "stream",
     "text": [
      "\n",
      "=== Classification Report DNN===\n",
      "              precision    recall  f1-score   support\n",
      "\n",
      "        ddos     0.9745    0.9855    0.9800     50614\n",
      "         dos     0.2576    0.6538    0.3696        26\n",
      "   injection     0.9637    0.9372    0.9502     50968\n",
      "        mitm     0.0000    0.0000    0.0000         7\n",
      "      normal     0.9288    0.8427    0.8836      9197\n",
      "    password     0.9841    0.9938    0.9889    189474\n",
      "    scanning     0.9938    0.9189    0.9549      4686\n",
      "         xss     0.9875    0.9882    0.9878    211140\n",
      "\n",
      "    accuracy                         0.9817    516112\n",
      "   macro avg     0.7612    0.7900    0.7644    516112\n",
      "weighted avg     0.9816    0.9817    0.9815    516112\n",
      "\n",
      "\n",
      "=== Classification Report Pruned===\n",
      "              precision    recall  f1-score   support\n",
      "\n",
      "        ddos     0.9921    0.9853    0.9887     50614\n",
      "         dos     0.0000    0.0000    0.0000        26\n",
      "   injection     0.9705    0.9713    0.9709     50968\n",
      "        mitm     0.0000    0.0000    0.0000         7\n",
      "      normal     0.9778    0.9095    0.9424      9197\n",
      "    password     0.9929    0.9968    0.9949    189474\n",
      "    scanning     0.9933    0.9191    0.9548      4686\n",
      "         xss     0.9916    0.9944    0.9930    211140\n",
      "\n",
      "    accuracy                         0.9898    516112\n",
      "   macro avg     0.7398    0.7220    0.7306    516112\n",
      "weighted avg     0.9898    0.9898    0.9898    516112\n",
      "\n"
     ]
    },
    {
     "name": "stderr",
     "output_type": "stream",
     "text": [
      "/home/mat-rib/Documents/tabular_dnn/venv/lib/python3.12/site-packages/sklearn/metrics/_classification.py:1731: UndefinedMetricWarning: Precision is ill-defined and being set to 0.0 in labels with no predicted samples. Use `zero_division` parameter to control this behavior.\n",
      "  _warn_prf(average, modifier, f\"{metric.capitalize()} is\", result.shape[0])\n",
      "/home/mat-rib/Documents/tabular_dnn/venv/lib/python3.12/site-packages/sklearn/metrics/_classification.py:1731: UndefinedMetricWarning: Precision is ill-defined and being set to 0.0 in labels with no predicted samples. Use `zero_division` parameter to control this behavior.\n",
      "  _warn_prf(average, modifier, f\"{metric.capitalize()} is\", result.shape[0])\n",
      "/home/mat-rib/Documents/tabular_dnn/venv/lib/python3.12/site-packages/sklearn/metrics/_classification.py:1731: UndefinedMetricWarning: Precision is ill-defined and being set to 0.0 in labels with no predicted samples. Use `zero_division` parameter to control this behavior.\n",
      "  _warn_prf(average, modifier, f\"{metric.capitalize()} is\", result.shape[0])\n",
      "/home/mat-rib/Documents/tabular_dnn/venv/lib/python3.12/site-packages/sklearn/metrics/_classification.py:1731: UndefinedMetricWarning: Precision is ill-defined and being set to 0.0 in labels with no predicted samples. Use `zero_division` parameter to control this behavior.\n",
      "  _warn_prf(average, modifier, f\"{metric.capitalize()} is\", result.shape[0])\n",
      "/home/mat-rib/Documents/tabular_dnn/venv/lib/python3.12/site-packages/sklearn/metrics/_classification.py:1731: UndefinedMetricWarning: Precision is ill-defined and being set to 0.0 in labels with no predicted samples. Use `zero_division` parameter to control this behavior.\n",
      "  _warn_prf(average, modifier, f\"{metric.capitalize()} is\", result.shape[0])\n",
      "/home/mat-rib/Documents/tabular_dnn/venv/lib/python3.12/site-packages/sklearn/metrics/_classification.py:1731: UndefinedMetricWarning: Precision is ill-defined and being set to 0.0 in labels with no predicted samples. Use `zero_division` parameter to control this behavior.\n",
      "  _warn_prf(average, modifier, f\"{metric.capitalize()} is\", result.shape[0])\n"
     ]
    }
   ],
   "source": [
    "print(\"\\n=== Classification Report DNN===\")\n",
    "print(classification_report(y_true, model_preds.numpy(), target_names=target_names, digits=4))\n",
    "print(\"\\n=== Classification Report Pruned===\")\n",
    "print(classification_report(y_true, pruned_preds.numpy(), target_names=target_names, digits=4))\n"
   ]
  }
 ],
 "metadata": {
  "kernelspec": {
   "display_name": "venv",
   "language": "python",
   "name": "python3"
  },
  "language_info": {
   "codemirror_mode": {
    "name": "ipython",
    "version": 3
   },
   "file_extension": ".py",
   "mimetype": "text/x-python",
   "name": "python",
   "nbconvert_exporter": "python",
   "pygments_lexer": "ipython3",
   "version": "3.12.3"
  }
 },
 "nbformat": 4,
 "nbformat_minor": 5
}
